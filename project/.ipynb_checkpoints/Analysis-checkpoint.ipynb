{
 "cells": [
  {
   "cell_type": "markdown",
   "id": "923bf25b",
   "metadata": {},
   "source": [
    "To use this Notebook, follow the instructions in [README.md](../../git/README.md)"
   ]
  },
  {
   "cell_type": "code",
   "execution_count": 32,
   "id": "ae9b96e4",
   "metadata": {},
   "outputs": [],
   "source": [
    "import pandas as pd               # a data.frame handler like R\n",
    "import folium                     # displaying maps\n",
    "import os\n",
    "import matplotlib.pyplot as plt\n",
    "import osmnx as ox                # connection to OpenStreetMap\n",
    "from selenium import webdriver    # for rendering in browser to save as .png\n",
    "import time\n",
    "import math"
   ]
  },
  {
   "cell_type": "code",
   "execution_count": 123,
   "id": "0916bcd8",
   "metadata": {},
   "outputs": [],
   "source": [
    "# read data\n",
    "current_file = globals()['_dh'][0]  # absolut path of this file working in jupyter notebook\n",
    "df = pd.read_table(current_file + os.sep + 'data' + os.sep + 'trafficCounts.csv', sep =';', encoding='latin1')  # os.sep as os inedpendent sep\n",
    "parcl = pd.read_table(current_file + os.sep + 'data' + os.sep + 'parcLot.csv', sep =';', encoding='latin1')  # os.sep as os inedpendent sep"
   ]
  },
  {
   "cell_type": "code",
   "execution_count": 3,
   "id": "18ab31f5",
   "metadata": {},
   "outputs": [],
   "source": [
    "tmp = df[df['DateTimeFrom'] == '2019-01-01T00:00:00+01:00'] # select data from that date\n",
    "len(tmp) # number of rows\n",
    "tmp['SiteCode'].unique() \n",
    "tmp = tmp[tmp['SiteCode'] < 1000]  # SiteCode are integers\n",
    "agg = tmp.groupby('SiteCode').PW.agg('sum')   # aggregate PW\n",
    "f = pd.merge(agg, tmp[['SiteCode','Geo Point']], how='inner',on='SiteCode')\n",
    "f['SiteCode'].unique().tolist()  # list of unique entries in col SiteCode\n",
    "# split Geo Point in lng an lat\n",
    "f[['lat','lng']] = f['geo_point_'].str.split(',', expand=True) # split Geo Points into new cols\n",
    "# for calculation circles\n",
    "maxPW = f['PW'].max()\n",
    "minPW = f['PW'].min()\n",
    "meanPW = f['PW'].mean()\n"
   ]
  },
  {
   "cell_type": "code",
   "execution_count": 139,
   "id": "40c29011",
   "metadata": {},
   "outputs": [
    {
     "data": {
      "text/html": [
       "<div>\n",
       "<style scoped>\n",
       "    .dataframe tbody tr th:only-of-type {\n",
       "        vertical-align: middle;\n",
       "    }\n",
       "\n",
       "    .dataframe tbody tr th {\n",
       "        vertical-align: top;\n",
       "    }\n",
       "\n",
       "    .dataframe thead th {\n",
       "        text-align: right;\n",
       "    }\n",
       "</style>\n",
       "<table border=\"1\" class=\"dataframe\">\n",
       "  <thead>\n",
       "    <tr style=\"text-align: right;\">\n",
       "      <th></th>\n",
       "      <th>lat</th>\n",
       "      <th>lng</th>\n",
       "    </tr>\n",
       "  </thead>\n",
       "  <tbody>\n",
       "    <tr>\n",
       "      <th>0</th>\n",
       "      <td>47.5504299</td>\n",
       "      <td>7.5943046</td>\n",
       "    </tr>\n",
       "    <tr>\n",
       "      <th>1</th>\n",
       "      <td>47.5630411</td>\n",
       "      <td>7.5967098</td>\n",
       "    </tr>\n",
       "    <tr>\n",
       "      <th>2</th>\n",
       "      <td>47.5639644</td>\n",
       "      <td>7.5946604</td>\n",
       "    </tr>\n",
       "    <tr>\n",
       "      <th>3</th>\n",
       "      <td>47.5622725</td>\n",
       "      <td>7.5917937</td>\n",
       "    </tr>\n",
       "    <tr>\n",
       "      <th>4</th>\n",
       "      <td>47.561101</td>\n",
       "      <td>7.5824076</td>\n",
       "    </tr>\n",
       "    <tr>\n",
       "      <th>5</th>\n",
       "      <td>47.5592347</td>\n",
       "      <td>7.58658</td>\n",
       "    </tr>\n",
       "    <tr>\n",
       "      <th>6</th>\n",
       "      <td>47.5515968</td>\n",
       "      <td>7.593512</td>\n",
       "    </tr>\n",
       "    <tr>\n",
       "      <th>7</th>\n",
       "      <td>47.5458851</td>\n",
       "      <td>7.5884556</td>\n",
       "    </tr>\n",
       "    <tr>\n",
       "      <th>8</th>\n",
       "      <td>47.5651794</td>\n",
       "      <td>7.6089067</td>\n",
       "    </tr>\n",
       "    <tr>\n",
       "      <th>9</th>\n",
       "      <td>47.563241</td>\n",
       "      <td>7.602175</td>\n",
       "    </tr>\n",
       "    <tr>\n",
       "      <th>10</th>\n",
       "      <td>47.5607142</td>\n",
       "      <td>7.594263</td>\n",
       "    </tr>\n",
       "    <tr>\n",
       "      <th>11</th>\n",
       "      <td>47.5506254</td>\n",
       "      <td>7.5874932</td>\n",
       "    </tr>\n",
       "    <tr>\n",
       "      <th>12</th>\n",
       "      <td>47.5468617</td>\n",
       "      <td>7.5929374</td>\n",
       "    </tr>\n",
       "    <tr>\n",
       "      <th>13</th>\n",
       "      <td>47.547299</td>\n",
       "      <td>7.5922975</td>\n",
       "    </tr>\n",
       "    <tr>\n",
       "      <th>14</th>\n",
       "      <td>47.5524554</td>\n",
       "      <td>7.5858936</td>\n",
       "    </tr>\n",
       "  </tbody>\n",
       "</table>\n",
       "</div>"
      ],
      "text/plain": [
       "           lat        lng\n",
       "0   47.5504299  7.5943046\n",
       "1   47.5630411  7.5967098\n",
       "2   47.5639644  7.5946604\n",
       "3   47.5622725  7.5917937\n",
       "4    47.561101  7.5824076\n",
       "5   47.5592347    7.58658\n",
       "6   47.5515968   7.593512\n",
       "7   47.5458851  7.5884556\n",
       "8   47.5651794  7.6089067\n",
       "9    47.563241   7.602175\n",
       "10  47.5607142   7.594263\n",
       "11  47.5506254  7.5874932\n",
       "12  47.5468617  7.5929374\n",
       "13   47.547299  7.5922975\n",
       "14  47.5524554  7.5858936"
      ]
     },
     "execution_count": 139,
     "metadata": {},
     "output_type": "execute_result"
    }
   ],
   "source": [
    "# code for parking lots\n",
    "#parcl.head()\n",
    "unique_parcl = pd.DataFrame(parcl['geo_point_2d'].unique())\n",
    "unique_parcl[['lat','lng']] = unique_parcl[0].str.split(',', expand=True) # split Geo Points into new cols\n",
    "unique_parcl.drop(0, axis=1, inplace=True)\n",
    "unique_parcl"
   ]
  },
  {
   "cell_type": "code",
   "execution_count": 6,
   "id": "a868bc23",
   "metadata": {},
   "outputs": [],
   "source": [
    "tmp.to_csv(os.path.join(current_file,'data','spots.csv'),sep=';', index=False)"
   ]
  },
  {
   "cell_type": "code",
   "execution_count": 151,
   "id": "e6a109bd",
   "metadata": {},
   "outputs": [],
   "source": [
    "# handisch points for first street\n",
    "fromSBB = [[47.55129881490497, 7.587171969561436],[47.55245107418086, 7.586515336091145]]\n",
    "toSBB = [[47.55129881490497, 7.587171969561436],[47.55050994586821, 7.587605347651829]]\n",
    "heuwoog = [[47.55245107418086, 7.586515336091145],[47.55050994586821, 7.587605347651829]]"
   ]
  },
  {
   "cell_type": "code",
   "execution_count": 149,
   "id": "9cb89163",
   "metadata": {},
   "outputs": [],
   "source": [
    "# function to calculate triangulars\n",
    "def calcTriangle(ll, steps):\n",
    "    # takes a list of 2 points with WGS koordinates [N,E], first is the starting point\n",
    "    # steps is the number of points claculated in between, uneven number  \n",
    "    # returns a list with tuples of list of points and a rotation\n",
    "    resl = []\n",
    "    \n",
    "    # select points\n",
    "    startN = ll[0][0]; startE = ll[0][1]; endN = ll[1][0]; endE = ll[1][1];\n",
    "   \n",
    "    # calulate step size\n",
    "    stepN = round((startN - endN) / steps, 7)\n",
    "    stepE = round((startE - endE) / steps , 7)\n",
    "    \n",
    "    #claculate alpha\n",
    "    alpha = int(math.degrees(math.atan((startE-endE)/(startN-endN))))\n",
    "    rotUp = 270 + alpha\n",
    "    rotDown = 90 + alpha\n",
    "\n",
    "    if startN - endN > 0:\n",
    "        rot = rotUp\n",
    "    else:\n",
    "        rot = rotDown\n",
    "    \n",
    "    # calculate new points\n",
    "    for i in range(1,steps):\n",
    "        if i == ((steps+1)/2) and rot==rotDown:\n",
    "            rot = rotUp\n",
    "        if i == ((steps+1)/2) and rot==rotUp:\n",
    "            rot = rotDown\n",
    "            \n",
    "        resl.append(([startN - i * stepN, startE - i * stepE], rot))\n",
    "           \n",
    "    return resl\n",
    "\n",
    "def plotDirection(l, steps, color, map_obj):\n",
    "    ll= calcTriangle(l, steps)\n",
    "    for p, rot in ll:\n",
    "        folium.RegularPolygonMarker(location=[p[0],p[1]], weight = 2, color=color, fill=True, fill_color=color, number_of_sides=3, radius=6, rotation=rot).add_to(map_obj)"
   ]
  },
  {
   "cell_type": "code",
   "execution_count": 75,
   "id": "7126fdf8",
   "metadata": {},
   "outputs": [
    {
     "name": "stdout",
     "output_type": "stream",
     "text": [
      "47.5525495\n",
      "0.0006049\n",
      "-0.0003352\n"
     ]
    },
    {
     "data": {
      "text/plain": [
       "([[47.5525495, 7.5864495],\n",
       "  [47.5519446, 7.5867847],\n",
       "  [47.5513397, 7.587119899999999],\n",
       "  [47.5507348, 7.5874551]],\n",
       " 61)"
      ]
     },
     "execution_count": 75,
     "metadata": {},
     "output_type": "execute_result"
    }
   ],
   "source": [
    "calcTriangle(toSBB,4)"
   ]
  },
  {
   "cell_type": "code",
   "execution_count": 78,
   "id": "26902115",
   "metadata": {},
   "outputs": [
    {
     "name": "stdout",
     "output_type": "stream",
     "text": [
      "47.550078\n",
      "-0.0006249\n",
      "0.0003424\n"
     ]
    },
    {
     "data": {
      "text/plain": [
       "([[47.550078, 7.5879091],\n",
       "  [47.5507029, 7.5875667],\n",
       "  [47.551327799999996, 7.5872243],\n",
       "  [47.5519527, 7.5868819]],\n",
       " -61)"
      ]
     },
     "execution_count": 78,
     "metadata": {},
     "output_type": "execute_result"
    }
   ],
   "source": [
    "calcTriangle(fromSBB,4)"
   ]
  },
  {
   "cell_type": "code",
   "execution_count": 152,
   "id": "1068ccfc",
   "metadata": {},
   "outputs": [
    {
     "ename": "NameError",
     "evalue": "name 'e' is not defined",
     "output_type": "error",
     "traceback": [
      "\u001b[1;31m---------------------------------------------------------------------------\u001b[0m",
      "\u001b[1;31mNameError\u001b[0m                                 Traceback (most recent call last)",
      "\u001b[1;32m~\\AppData\\Local\\Temp/ipykernel_2860/3969135619.py\u001b[0m in \u001b[0;36m<module>\u001b[1;34m\u001b[0m\n\u001b[0;32m     19\u001b[0m \u001b[1;31m#folium.PolyLine(fromSBB, color='red', weight=2, opacity=1).add_to(m)\u001b[0m\u001b[1;33m\u001b[0m\u001b[1;33m\u001b[0m\u001b[0m\n\u001b[0;32m     20\u001b[0m \u001b[1;31m#folium.RegularPolygonMarker(location=toSBB[1], weight = 2, color ='blue', fill=True, fill_color='blue', number_of_sides=3, radius=6, rotation=250).add_to(m)\u001b[0m\u001b[1;33m\u001b[0m\u001b[1;33m\u001b[0m\u001b[0m\n\u001b[1;32m---> 21\u001b[1;33m \u001b[0mplotDirection\u001b[0m\u001b[1;33m(\u001b[0m\u001b[0mheuwoog\u001b[0m\u001b[1;33m,\u001b[0m \u001b[1;36m7\u001b[0m\u001b[1;33m,\u001b[0m \u001b[1;34m'green'\u001b[0m\u001b[1;33m,\u001b[0m \u001b[0mm\u001b[0m\u001b[1;33m)\u001b[0m\u001b[1;33m\u001b[0m\u001b[1;33m\u001b[0m\u001b[0m\n\u001b[0m\u001b[0;32m     22\u001b[0m \u001b[1;31m#plotDirection(fromSBB, 4, ' red', m)\u001b[0m\u001b[1;33m\u001b[0m\u001b[1;33m\u001b[0m\u001b[0m\n\u001b[0;32m     23\u001b[0m \u001b[1;33m\u001b[0m\u001b[0m\n",
      "\u001b[1;32m~\\AppData\\Local\\Temp/ipykernel_2860/3917912080.py\u001b[0m in \u001b[0;36mplotDirection\u001b[1;34m(l, steps, color, map_obj)\u001b[0m\n\u001b[0;32m     37\u001b[0m     \u001b[0mll\u001b[0m\u001b[1;33m=\u001b[0m \u001b[0mcalcTriangle\u001b[0m\u001b[1;33m(\u001b[0m\u001b[0ml\u001b[0m\u001b[1;33m,\u001b[0m \u001b[0msteps\u001b[0m\u001b[1;33m)\u001b[0m\u001b[1;33m\u001b[0m\u001b[1;33m\u001b[0m\u001b[0m\n\u001b[0;32m     38\u001b[0m     \u001b[1;32mfor\u001b[0m \u001b[0mp\u001b[0m\u001b[1;33m,\u001b[0m \u001b[0mrot\u001b[0m \u001b[1;32min\u001b[0m \u001b[0mll\u001b[0m\u001b[1;33m:\u001b[0m\u001b[1;33m\u001b[0m\u001b[1;33m\u001b[0m\u001b[0m\n\u001b[1;32m---> 39\u001b[1;33m         \u001b[0mfolium\u001b[0m\u001b[1;33m.\u001b[0m\u001b[0mRegularPolygonMarker\u001b[0m\u001b[1;33m(\u001b[0m\u001b[0mlocation\u001b[0m\u001b[1;33m=\u001b[0m\u001b[1;33m[\u001b[0m\u001b[0me\u001b[0m\u001b[1;33m[\u001b[0m\u001b[1;36m0\u001b[0m\u001b[1;33m]\u001b[0m\u001b[1;33m,\u001b[0m\u001b[0me\u001b[0m\u001b[1;33m[\u001b[0m\u001b[1;36m1\u001b[0m\u001b[1;33m]\u001b[0m\u001b[1;33m]\u001b[0m\u001b[1;33m,\u001b[0m \u001b[0mweight\u001b[0m \u001b[1;33m=\u001b[0m \u001b[1;36m2\u001b[0m\u001b[1;33m,\u001b[0m \u001b[0mcolor\u001b[0m\u001b[1;33m=\u001b[0m\u001b[0mcolor\u001b[0m\u001b[1;33m,\u001b[0m \u001b[0mfill\u001b[0m\u001b[1;33m=\u001b[0m\u001b[1;32mTrue\u001b[0m\u001b[1;33m,\u001b[0m \u001b[0mfill_color\u001b[0m\u001b[1;33m=\u001b[0m\u001b[0mcolor\u001b[0m\u001b[1;33m,\u001b[0m \u001b[0mnumber_of_sides\u001b[0m\u001b[1;33m=\u001b[0m\u001b[1;36m3\u001b[0m\u001b[1;33m,\u001b[0m \u001b[0mradius\u001b[0m\u001b[1;33m=\u001b[0m\u001b[1;36m6\u001b[0m\u001b[1;33m,\u001b[0m \u001b[0mrotation\u001b[0m\u001b[1;33m=\u001b[0m\u001b[0mrot\u001b[0m\u001b[1;33m)\u001b[0m\u001b[1;33m.\u001b[0m\u001b[0madd_to\u001b[0m\u001b[1;33m(\u001b[0m\u001b[0mmap_obj\u001b[0m\u001b[1;33m)\u001b[0m\u001b[1;33m\u001b[0m\u001b[1;33m\u001b[0m\u001b[0m\n\u001b[0m",
      "\u001b[1;31mNameError\u001b[0m: name 'e' is not defined"
     ]
    }
   ],
   "source": [
    "def plotDot(row):\n",
    "    #radius = row.PW / maxPW * 10\n",
    "    folium.CircleMarker(location=[row.lat, row.lng],radius=6,color = 'blue',fill=True, fillcolor = 'blue', fill_opacity =1).add_to(m)\n",
    "\n",
    "def plotStreet(row):\n",
    "    folium.PolyLine(row.points)\n",
    "\n",
    "    \n",
    "# the map\n",
    "place_name = 'Basel, Switzerland'\n",
    "graph = ox.graph_from_place(place_name)\n",
    "nodes, streets = ox.graph_to_gdfs(graph)\n",
    "#streets.head()\n",
    "style = {'color': '#F7DC6F', 'weight':'1'}\n",
    "m = folium.Map([47.54970167889083, 7.591000145233195], width=975, height =575,zoom_start=16, tiles='CartoDB Positron')\n",
    "# plot points\n",
    "unique_parcl.apply(plotDot, axis = 1)\n",
    "#folium.PolyLine(toSBB, color='blue', weight=2, opacity=1).add_to(m)\n",
    "#folium.PolyLine(fromSBB, color='red', weight=2, opacity=1).add_to(m)\n",
    "#folium.RegularPolygonMarker(location=toSBB[1], weight = 2, color ='blue', fill=True, fill_color='blue', number_of_sides=3, radius=6, rotation=250).add_to(m)\n",
    "plotDirection(heuwoog, 7, 'green', m)\n",
    "#plotDirection(fromSBB, 4, ' red', m)\n",
    "\n",
    "m\n"
   ]
  },
  {
   "cell_type": "code",
   "execution_count": null,
   "id": "300d8c31",
   "metadata": {},
   "outputs": [],
   "source": [
    "# Save as map as image\n",
    "# download gecko driver for firefox from here - https://github.com/mozilla/geckodriver/releases\n",
    "mapFname = 'output.html'\n",
    "m.save(mapFname)\n",
    "mapUrl = 'file://{0}/{1}'.format(os.getcwd(), mapFname)\n",
    "# use selenium webdriver to save the html as png image\n",
    "driver = webdriver.Firefox()\n",
    "driver.get(mapUrl)\n",
    "# wait for 5 seconds for the maps and other assets to be loaded in the browser\n",
    "time.sleep(5)\n",
    "driver.save_screenshot('output.png')\n",
    "driver.quit()"
   ]
  }
 ],
 "metadata": {
  "kernelspec": {
   "display_name": "Python 3 (ipykernel)",
   "language": "python",
   "name": "python3"
  },
  "language_info": {
   "codemirror_mode": {
    "name": "ipython",
    "version": 3
   },
   "file_extension": ".py",
   "mimetype": "text/x-python",
   "name": "python",
   "nbconvert_exporter": "python",
   "pygments_lexer": "ipython3",
   "version": "3.9.7"
  }
 },
 "nbformat": 4,
 "nbformat_minor": 5
}
